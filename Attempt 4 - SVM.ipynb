{
 "cells": [
  {
   "cell_type": "code",
   "execution_count": 3,
   "metadata": {
    "collapsed": true
   },
   "outputs": [],
   "source": [
    "import numpy as np\n",
    "import pandas as pd\n",
    "\n",
    "from sklearn.ensemble import RandomForestClassifier\n",
    "from sklearn.svm import SVC\n",
    "from sklearn.decomposition import PCA\n",
    "from sklearn.pipeline import Pipeline\n",
    "from sklearn.grid_search import GridSearchCV, RandomizedSearchCV\n",
    "\n",
    "from helper import load_train_dataset, load_test_dataset, drop_zero_mean, submit, display, to_black_scale\n",
    "\n",
    "%matplotlib inline"
   ]
  },
  {
   "cell_type": "code",
   "execution_count": 4,
   "metadata": {
    "collapsed": true
   },
   "outputs": [],
   "source": [
    "train_orig, labels = load_train_dataset()"
   ]
  },
  {
   "cell_type": "markdown",
   "metadata": {},
   "source": [
    "## PCA + SVM approach"
   ]
  },
  {
   "cell_type": "code",
   "execution_count": 5,
   "metadata": {
    "collapsed": true
   },
   "outputs": [],
   "source": [
    "X, Y = train_orig.values, labels.values"
   ]
  },
  {
   "cell_type": "code",
   "execution_count": 8,
   "metadata": {
    "collapsed": true
   },
   "outputs": [],
   "source": [
    "pca = PCA()\n",
    "clf = SVC(kernel='rbf')\n",
    "pipe = Pipeline([('pca', pca), ('clf', clf)])"
   ]
  },
  {
   "cell_type": "code",
   "execution_count": 9,
   "metadata": {
    "collapsed": false
   },
   "outputs": [
    {
     "name": "stdout",
     "output_type": "stream",
     "text": [
      "Fitting 5 folds for each of 1 candidates, totalling 5 fits\n",
      "[CV] pca__n_components=0.75, clf__gamma=auto, clf__C=1.0 .............\n",
      "[CV]  pca__n_components=0.75, clf__gamma=auto, clf__C=1.0, score=0.111481 - 3.1min\n",
      "[CV] pca__n_components=0.75, clf__gamma=auto, clf__C=1.0 .............\n",
      "[CV]  pca__n_components=0.75, clf__gamma=auto, clf__C=1.0, score=0.111508 - 3.0min\n",
      "[CV] pca__n_components=0.75, clf__gamma=auto, clf__C=1.0 .............\n",
      "[CV]  pca__n_components=0.75, clf__gamma=auto, clf__C=1.0, score=0.111561 - 3.0min\n",
      "[CV] pca__n_components=0.75, clf__gamma=auto, clf__C=1.0 .............\n",
      "[CV]  pca__n_components=0.75, clf__gamma=auto, clf__C=1.0, score=0.111587 - 3.0min\n",
      "[CV] pca__n_components=0.75, clf__gamma=auto, clf__C=1.0 .............\n",
      "[CV]  pca__n_components=0.75, clf__gamma=auto, clf__C=1.0, score=0.111482 - 3.0min\n"
     ]
    },
    {
     "name": "stderr",
     "output_type": "stream",
     "text": [
      "[Parallel(n_jobs=1)]: Done   5 out of   5 | elapsed: 15.3min finished\n"
     ]
    },
    {
     "data": {
      "text/plain": [
       "GridSearchCV(cv=5, error_score='raise',\n",
       "       estimator=Pipeline(steps=[('pca', PCA(copy=True, n_components=None, whiten=False)), ('clf', SVC(C=1.0, cache_size=200, class_weight=None, coef0=0.0,\n",
       "  decision_function_shape=None, degree=3, gamma='auto', kernel='rbf',\n",
       "  max_iter=-1, probability=False, random_state=None, shrinking=True,\n",
       "  tol=0.001, verbose=False))]),\n",
       "       fit_params={}, iid=True, n_jobs=1,\n",
       "       param_grid={'pca__n_components': [0.75], 'clf__gamma': ['auto'], 'clf__C': [1.0]},\n",
       "       pre_dispatch='2*n_jobs', refit=True, scoring=None, verbose=3)"
      ]
     },
     "execution_count": 9,
     "metadata": {},
     "output_type": "execute_result"
    }
   ],
   "source": [
    "param_grid = {\n",
    "            'clf__C': [1.0],\n",
    "            'clf__gamma': ['auto'],\n",
    "            'pca__n_components': [0.75]\n",
    "}\n",
    "cv = GridSearchCV(pipe, param_grid=param_grid, verbose=3, cv=5)\n",
    "cv.fit(X, Y)"
   ]
  },
  {
   "cell_type": "raw",
   "metadata": {},
   "source": [
    "This is very poor result."
   ]
  },
  {
   "cell_type": "code",
   "execution_count": 15,
   "metadata": {
    "collapsed": true
   },
   "outputs": [],
   "source": [
    "test = load_test_dataset()"
   ]
  },
  {
   "cell_type": "code",
   "execution_count": 12,
   "metadata": {
    "collapsed": false
   },
   "outputs": [
    {
     "data": {
      "text/html": [
       "<div>\n",
       "<table border=\"1\" class=\"dataframe\">\n",
       "  <thead>\n",
       "    <tr style=\"text-align: right;\">\n",
       "      <th></th>\n",
       "      <th>ImageId</th>\n",
       "      <th>Label</th>\n",
       "    </tr>\n",
       "  </thead>\n",
       "  <tbody>\n",
       "    <tr>\n",
       "      <th>0</th>\n",
       "      <td>1</td>\n",
       "      <td>1</td>\n",
       "    </tr>\n",
       "    <tr>\n",
       "      <th>1</th>\n",
       "      <td>2</td>\n",
       "      <td>1</td>\n",
       "    </tr>\n",
       "    <tr>\n",
       "      <th>2</th>\n",
       "      <td>3</td>\n",
       "      <td>1</td>\n",
       "    </tr>\n",
       "    <tr>\n",
       "      <th>3</th>\n",
       "      <td>4</td>\n",
       "      <td>1</td>\n",
       "    </tr>\n",
       "    <tr>\n",
       "      <th>4</th>\n",
       "      <td>5</td>\n",
       "      <td>1</td>\n",
       "    </tr>\n",
       "  </tbody>\n",
       "</table>\n",
       "</div>"
      ],
      "text/plain": [
       "   ImageId  Label\n",
       "0        1      1\n",
       "1        2      1\n",
       "2        3      1\n",
       "3        4      1\n",
       "4        5      1"
      ]
     },
     "execution_count": 12,
     "metadata": {},
     "output_type": "execute_result"
    }
   ],
   "source": [
    "submit(cv.best_estimator_, test, 'output6.csv').head()"
   ]
  },
  {
   "cell_type": "markdown",
   "metadata": {},
   "source": [
    "## Let's see if making black and white gets me somewhere"
   ]
  },
  {
   "cell_type": "code",
   "execution_count": 6,
   "metadata": {
    "collapsed": true
   },
   "outputs": [],
   "source": [
    "X, Y = to_black_scale(train_orig).values, labels.values"
   ]
  },
  {
   "cell_type": "code",
   "execution_count": 8,
   "metadata": {
    "collapsed": true
   },
   "outputs": [],
   "source": [
    "pca = PCA()\n",
    "clf = SVC(kernel='rbf')\n",
    "pipe = Pipeline([('pca', pca), ('clf', clf)])"
   ]
  },
  {
   "cell_type": "code",
   "execution_count": 15,
   "metadata": {
    "collapsed": false
   },
   "outputs": [
    {
     "name": "stdout",
     "output_type": "stream",
     "text": [
      "Fitting 5 folds for each of 1 candidates, totalling 5 fits\n",
      "[CV] pca__n_components=0.75, clf__gamma=auto, clf__C=1.0 .............\n",
      "[CV]  pca__n_components=0.75, clf__gamma=auto, clf__C=1.0, score=0.980250 -  33.5s\n",
      "[CV] pca__n_components=0.75, clf__gamma=auto, clf__C=1.0 .............\n",
      "[CV]  pca__n_components=0.75, clf__gamma=auto, clf__C=1.0, score=0.980364 -  29.8s\n",
      "[CV] pca__n_components=0.75, clf__gamma=auto, clf__C=1.0 .............\n",
      "[CV]  pca__n_components=0.75, clf__gamma=auto, clf__C=1.0, score=0.976664 -  26.1s\n",
      "[CV] pca__n_components=0.75, clf__gamma=auto, clf__C=1.0 .............\n",
      "[CV]  pca__n_components=0.75, clf__gamma=auto, clf__C=1.0, score=0.979636 -  28.1s\n",
      "[CV] pca__n_components=0.75, clf__gamma=auto, clf__C=1.0 .............\n",
      "[CV]  pca__n_components=0.75, clf__gamma=auto, clf__C=1.0, score=0.978919 -  28.7s\n"
     ]
    },
    {
     "name": "stderr",
     "output_type": "stream",
     "text": [
      "[Parallel(n_jobs=1)]: Done   5 out of   5 | elapsed:  2.4min finished\n"
     ]
    },
    {
     "data": {
      "text/plain": [
       "GridSearchCV(cv=5, error_score='raise',\n",
       "       estimator=Pipeline(steps=[('pca', PCA(copy=True, n_components=None, whiten=False)), ('clf', SVC(C=1.0, cache_size=200, class_weight=None, coef0=0.0,\n",
       "  decision_function_shape=None, degree=3, gamma='auto', kernel='rbf',\n",
       "  max_iter=-1, probability=False, random_state=None, shrinking=True,\n",
       "  tol=0.001, verbose=False))]),\n",
       "       fit_params={}, iid=True, n_jobs=1,\n",
       "       param_grid={'pca__n_components': [0.75], 'clf__gamma': ['auto'], 'clf__C': [1.0]},\n",
       "       pre_dispatch='2*n_jobs', refit=True, scoring=None, verbose=3)"
      ]
     },
     "execution_count": 15,
     "metadata": {},
     "output_type": "execute_result"
    }
   ],
   "source": [
    "param_grid = {\n",
    "            'clf__C': [1.0],\n",
    "            'clf__gamma': ['auto'],\n",
    "            'pca__n_components': [0.75]\n",
    "}\n",
    "cv = GridSearchCV(pipe, param_grid=param_grid, verbose=3, cv=5)\n",
    "cv.fit(X, Y)"
   ]
  },
  {
   "cell_type": "code",
   "execution_count": 18,
   "metadata": {
    "collapsed": false
   },
   "outputs": [
    {
     "data": {
      "text/plain": [
       "[mean: 0.97917, std: 0.00135, params: {'pca__n_components': 0.75, 'clf__gamma': 'auto', 'clf__C': 1.0}]"
      ]
     },
     "execution_count": 18,
     "metadata": {},
     "output_type": "execute_result"
    }
   ],
   "source": [
    "cv.grid_scores_"
   ]
  },
  {
   "cell_type": "code",
   "execution_count": 17,
   "metadata": {
    "collapsed": false
   },
   "outputs": [
    {
     "data": {
      "text/html": [
       "<div>\n",
       "<table border=\"1\" class=\"dataframe\">\n",
       "  <thead>\n",
       "    <tr style=\"text-align: right;\">\n",
       "      <th></th>\n",
       "      <th>ImageId</th>\n",
       "      <th>Label</th>\n",
       "    </tr>\n",
       "  </thead>\n",
       "  <tbody>\n",
       "    <tr>\n",
       "      <th>0</th>\n",
       "      <td>1</td>\n",
       "      <td>2</td>\n",
       "    </tr>\n",
       "    <tr>\n",
       "      <th>1</th>\n",
       "      <td>2</td>\n",
       "      <td>0</td>\n",
       "    </tr>\n",
       "    <tr>\n",
       "      <th>2</th>\n",
       "      <td>3</td>\n",
       "      <td>9</td>\n",
       "    </tr>\n",
       "    <tr>\n",
       "      <th>3</th>\n",
       "      <td>4</td>\n",
       "      <td>9</td>\n",
       "    </tr>\n",
       "    <tr>\n",
       "      <th>4</th>\n",
       "      <td>5</td>\n",
       "      <td>3</td>\n",
       "    </tr>\n",
       "  </tbody>\n",
       "</table>\n",
       "</div>"
      ],
      "text/plain": [
       "   ImageId  Label\n",
       "0        1      2\n",
       "1        2      0\n",
       "2        3      9\n",
       "3        4      9\n",
       "4        5      3"
      ]
     },
     "execution_count": 17,
     "metadata": {},
     "output_type": "execute_result"
    }
   ],
   "source": [
    "submit(cv.best_estimator_, to_black_scale(test), 'output7.csv').head()"
   ]
  },
  {
   "cell_type": "code",
   "execution_count": 6,
   "metadata": {
    "collapsed": false
   },
   "outputs": [
    {
     "name": "stdout",
     "output_type": "stream",
     "text": [
      "Fitting 5 folds for each of 2 candidates, totalling 10 fits\n",
      "[CV] pca__n_components=0.75, clf__C=1.0, clf__gamma=auto, pca__whiten=True \n",
      "[CV]  pca__n_components=0.75, clf__C=1.0, clf__gamma=auto, pca__whiten=True, score=0.978346 -  44.9s\n",
      "[CV] pca__n_components=0.75, clf__C=1.0, clf__gamma=auto, pca__whiten=True \n",
      "[CV]  pca__n_components=0.75, clf__C=1.0, clf__gamma=auto, pca__whiten=True, score=0.978579 -  35.3s\n",
      "[CV] pca__n_components=0.75, clf__C=1.0, clf__gamma=auto, pca__whiten=True \n",
      "[CV]  pca__n_components=0.75, clf__C=1.0, clf__gamma=auto, pca__whiten=True, score=0.975830 -  34.9s\n",
      "[CV] pca__n_components=0.75, clf__C=1.0, clf__gamma=auto, pca__whiten=True \n",
      "[CV]  pca__n_components=0.75, clf__C=1.0, clf__gamma=auto, pca__whiten=True, score=0.977968 -  34.3s\n",
      "[CV] pca__n_components=0.75, clf__C=1.0, clf__gamma=auto, pca__whiten=True \n",
      "[CV]  pca__n_components=0.75, clf__C=1.0, clf__gamma=auto, pca__whiten=True, score=0.978323 -  34.4s\n",
      "[CV] pca__n_components=0.75, clf__C=1.0, clf__gamma=auto, pca__whiten=False \n",
      "[CV]  pca__n_components=0.75, clf__C=1.0, clf__gamma=auto, pca__whiten=False, score=0.980250 -  25.4s\n",
      "[CV] pca__n_components=0.75, clf__C=1.0, clf__gamma=auto, pca__whiten=False \n",
      "[CV]  pca__n_components=0.75, clf__C=1.0, clf__gamma=auto, pca__whiten=False, score=0.980364 -  26.0s\n",
      "[CV] pca__n_components=0.75, clf__C=1.0, clf__gamma=auto, pca__whiten=False \n",
      "[CV]  pca__n_components=0.75, clf__C=1.0, clf__gamma=auto, pca__whiten=False, score=0.976664 -  25.1s\n",
      "[CV] pca__n_components=0.75, clf__C=1.0, clf__gamma=auto, pca__whiten=False \n",
      "[CV]  pca__n_components=0.75, clf__C=1.0, clf__gamma=auto, pca__whiten=False, score=0.979636 -  26.2s\n",
      "[CV] pca__n_components=0.75, clf__C=1.0, clf__gamma=auto, pca__whiten=False \n",
      "[CV]  pca__n_components=0.75, clf__C=1.0, clf__gamma=auto, pca__whiten=False, score=0.978919 -  26.4s\n"
     ]
    },
    {
     "name": "stderr",
     "output_type": "stream",
     "text": [
      "[Parallel(n_jobs=1)]: Done  10 out of  10 | elapsed:  5.2min finished\n"
     ]
    },
    {
     "data": {
      "text/plain": [
       "GridSearchCV(cv=5, error_score='raise',\n",
       "       estimator=Pipeline(steps=[('pca', PCA(copy=True, n_components=None, whiten=False)), ('clf', SVC(C=1.0, cache_size=200, class_weight=None, coef0=0.0,\n",
       "  decision_function_shape=None, degree=3, gamma='auto', kernel='rbf',\n",
       "  max_iter=-1, probability=False, random_state=None, shrinking=True,\n",
       "  tol=0.001, verbose=False))]),\n",
       "       fit_params={}, iid=True, n_jobs=1,\n",
       "       param_grid={'pca__n_components': [0.75], 'clf__C': [1.0], 'clf__gamma': ['auto'], 'pca__whiten': [True, False]},\n",
       "       pre_dispatch='2*n_jobs', refit=True, scoring=None, verbose=3)"
      ]
     },
     "execution_count": 6,
     "metadata": {},
     "output_type": "execute_result"
    }
   ],
   "source": [
    "param_grid = {\n",
    "            'clf__C': [1.0],\n",
    "            'clf__gamma': ['auto'],\n",
    "            'pca__n_components': [0.75],\n",
    "            'pca__whiten': [True, False]\n",
    "}\n",
    "cv = GridSearchCV(pipe, param_grid=param_grid, verbose=3, cv=5)\n",
    "cv.fit(X, Y)"
   ]
  },
  {
   "cell_type": "code",
   "execution_count": 7,
   "metadata": {
    "collapsed": false
   },
   "outputs": [
    {
     "data": {
      "text/plain": [
       "[mean: 0.97781, std: 0.00101, params: {'pca__n_components': 0.75, 'clf__C': 1.0, 'clf__gamma': 'auto', 'pca__whiten': True},\n",
       " mean: 0.97917, std: 0.00135, params: {'pca__n_components': 0.75, 'clf__C': 1.0, 'clf__gamma': 'auto', 'pca__whiten': False}]"
      ]
     },
     "execution_count": 7,
     "metadata": {},
     "output_type": "execute_result"
    }
   ],
   "source": [
    "cv.grid_scores_"
   ]
  },
  {
   "cell_type": "code",
   "execution_count": 8,
   "metadata": {
    "collapsed": false
   },
   "outputs": [
    {
     "data": {
      "text/plain": [
       "{'clf__C': 1.0,\n",
       " 'clf__gamma': 'auto',\n",
       " 'pca__n_components': 0.75,\n",
       " 'pca__whiten': False}"
      ]
     },
     "execution_count": 8,
     "metadata": {},
     "output_type": "execute_result"
    }
   ],
   "source": [
    "cv.best_params_"
   ]
  },
  {
   "cell_type": "markdown",
   "metadata": {},
   "source": [
    "## despite low score lets still try whitten=True"
   ]
  },
  {
   "cell_type": "code",
   "execution_count": 9,
   "metadata": {
    "collapsed": false
   },
   "outputs": [
    {
     "data": {
      "text/plain": [
       "Pipeline(steps=[('pca', PCA(copy=True, n_components=0.75, whiten=True)), ('clf', SVC(C=1.0, cache_size=200, class_weight=None, coef0=0.0,\n",
       "  decision_function_shape=None, degree=3, gamma='auto', kernel='rbf',\n",
       "  max_iter=-1, probability=False, random_state=None, shrinking=True,\n",
       "  tol=0.001, verbose=False))])"
      ]
     },
     "execution_count": 9,
     "metadata": {},
     "output_type": "execute_result"
    }
   ],
   "source": [
    "pca = PCA(whiten=True, n_components=.75)\n",
    "clf = SVC(kernel='rbf')\n",
    "pipe = Pipeline([('pca', pca), ('clf', clf)])\n",
    "pipe.fit(X, Y)"
   ]
  },
  {
   "cell_type": "code",
   "execution_count": 12,
   "metadata": {
    "collapsed": false
   },
   "outputs": [
    {
     "data": {
      "text/html": [
       "<div>\n",
       "<table border=\"1\" class=\"dataframe\">\n",
       "  <thead>\n",
       "    <tr style=\"text-align: right;\">\n",
       "      <th></th>\n",
       "      <th>ImageId</th>\n",
       "      <th>Label</th>\n",
       "    </tr>\n",
       "  </thead>\n",
       "  <tbody>\n",
       "    <tr>\n",
       "      <th>0</th>\n",
       "      <td>1</td>\n",
       "      <td>2</td>\n",
       "    </tr>\n",
       "    <tr>\n",
       "      <th>1</th>\n",
       "      <td>2</td>\n",
       "      <td>0</td>\n",
       "    </tr>\n",
       "    <tr>\n",
       "      <th>2</th>\n",
       "      <td>3</td>\n",
       "      <td>9</td>\n",
       "    </tr>\n",
       "    <tr>\n",
       "      <th>3</th>\n",
       "      <td>4</td>\n",
       "      <td>9</td>\n",
       "    </tr>\n",
       "    <tr>\n",
       "      <th>4</th>\n",
       "      <td>5</td>\n",
       "      <td>3</td>\n",
       "    </tr>\n",
       "  </tbody>\n",
       "</table>\n",
       "</div>"
      ],
      "text/plain": [
       "   ImageId  Label\n",
       "0        1      2\n",
       "1        2      0\n",
       "2        3      9\n",
       "3        4      9\n",
       "4        5      3"
      ]
     },
     "execution_count": 12,
     "metadata": {},
     "output_type": "execute_result"
    }
   ],
   "source": [
    "submit(pipe, to_black_scale(test), 'output8.csv').head()"
   ]
  },
  {
   "cell_type": "markdown",
   "metadata": {},
   "source": [
    "## Let's try some gamma variation"
   ]
  },
  {
   "cell_type": "code",
   "execution_count": 13,
   "metadata": {
    "collapsed": false
   },
   "outputs": [
    {
     "name": "stdout",
     "output_type": "stream",
     "text": [
      "Fitting 5 folds for each of 8 candidates, totalling 40 fits\n",
      "[CV] pca__n_components=0.75, clf__C=1.0, clf__gamma=auto, pca__whiten=True \n",
      "[CV]  pca__n_components=0.75, clf__C=1.0, clf__gamma=auto, pca__whiten=True, score=0.978346 -  38.0s\n",
      "[CV] pca__n_components=0.75, clf__C=1.0, clf__gamma=auto, pca__whiten=True \n",
      "[CV]  pca__n_components=0.75, clf__C=1.0, clf__gamma=auto, pca__whiten=True, score=0.978579 -  37.1s\n",
      "[CV] pca__n_components=0.75, clf__C=1.0, clf__gamma=auto, pca__whiten=True \n",
      "[CV]  pca__n_components=0.75, clf__C=1.0, clf__gamma=auto, pca__whiten=True, score=0.975830 -  36.7s\n",
      "[CV] pca__n_components=0.75, clf__C=1.0, clf__gamma=auto, pca__whiten=True \n",
      "[CV]  pca__n_components=0.75, clf__C=1.0, clf__gamma=auto, pca__whiten=True, score=0.977968 -  41.5s\n",
      "[CV] pca__n_components=0.75, clf__C=1.0, clf__gamma=auto, pca__whiten=True \n",
      "[CV]  pca__n_components=0.75, clf__C=1.0, clf__gamma=auto, pca__whiten=True, score=0.978323 -  41.7s\n",
      "[CV] pca__n_components=0.75, clf__C=1.0, clf__gamma=auto, pca__whiten=False \n",
      "[CV]  pca__n_components=0.75, clf__C=1.0, clf__gamma=auto, pca__whiten=False, score=0.980250 -  27.6s\n",
      "[CV] pca__n_components=0.75, clf__C=1.0, clf__gamma=auto, pca__whiten=False \n",
      "[CV]  pca__n_components=0.75, clf__C=1.0, clf__gamma=auto, pca__whiten=False, score=0.980364 -  26.5s\n",
      "[CV] pca__n_components=0.75, clf__C=1.0, clf__gamma=auto, pca__whiten=False \n",
      "[CV]  pca__n_components=0.75, clf__C=1.0, clf__gamma=auto, pca__whiten=False, score=0.976664 -  26.1s\n",
      "[CV] pca__n_components=0.75, clf__C=1.0, clf__gamma=auto, pca__whiten=False \n",
      "[CV]  pca__n_components=0.75, clf__C=1.0, clf__gamma=auto, pca__whiten=False, score=0.979636 -  26.3s\n",
      "[CV] pca__n_components=0.75, clf__C=1.0, clf__gamma=auto, pca__whiten=False \n",
      "[CV]  pca__n_components=0.75, clf__C=1.0, clf__gamma=auto, pca__whiten=False, score=0.978919 -  27.4s\n",
      "[CV] pca__n_components=0.75, clf__C=1.0, clf__gamma=0.01, pca__whiten=True \n",
      "[CV]  pca__n_components=0.75, clf__C=1.0, clf__gamma=0.01, pca__whiten=True, score=0.969899 -  29.3s\n",
      "[CV] pca__n_components=0.75, clf__C=1.0, clf__gamma=0.01, pca__whiten=True \n",
      "[CV]  pca__n_components=0.75, clf__C=1.0, clf__gamma=0.01, pca__whiten=True, score=0.971201 -  29.2s\n",
      "[CV] pca__n_components=0.75, clf__C=1.0, clf__gamma=0.01, pca__whiten=True \n",
      "[CV]  pca__n_components=0.75, clf__C=1.0, clf__gamma=0.01, pca__whiten=True, score=0.967734 -  29.4s\n",
      "[CV] pca__n_components=0.75, clf__C=1.0, clf__gamma=0.01, pca__whiten=True \n",
      "[CV]  pca__n_components=0.75, clf__C=1.0, clf__gamma=0.01, pca__whiten=True, score=0.970942 -  29.5s\n",
      "[CV] pca__n_components=0.75, clf__C=1.0, clf__gamma=0.01, pca__whiten=True \n",
      "[CV]  pca__n_components=0.75, clf__C=1.0, clf__gamma=0.01, pca__whiten=True, score=0.970939 -  29.2s\n",
      "[CV] pca__n_components=0.75, clf__C=1.0, clf__gamma=0.01, pca__whiten=False \n",
      "[CV]  pca__n_components=0.75, clf__C=1.0, clf__gamma=0.01, pca__whiten=False, score=0.973825 -  22.5s\n",
      "[CV] pca__n_components=0.75, clf__C=1.0, clf__gamma=0.01, pca__whiten=False \n",
      "[CV]  pca__n_components=0.75, clf__C=1.0, clf__gamma=0.01, pca__whiten=False, score=0.972510 -  24.2s\n",
      "[CV] pca__n_components=0.75, clf__C=1.0, clf__gamma=0.01, pca__whiten=False \n",
      "[CV]  pca__n_components=0.75, clf__C=1.0, clf__gamma=0.01, pca__whiten=False, score=0.967734 -  23.3s\n",
      "[CV] pca__n_components=0.75, clf__C=1.0, clf__gamma=0.01, pca__whiten=False \n",
      "[CV]  pca__n_components=0.75, clf__C=1.0, clf__gamma=0.01, pca__whiten=False, score=0.972967 -  22.6s\n",
      "[CV] pca__n_components=0.75, clf__C=1.0, clf__gamma=0.01, pca__whiten=False \n",
      "[CV]  pca__n_components=0.75, clf__C=1.0, clf__gamma=0.01, pca__whiten=False, score=0.973797 -  23.0s\n",
      "[CV] pca__n_components=0.75, clf__C=1.0, clf__gamma=0.05, pca__whiten=True \n",
      "[CV]  pca__n_components=0.75, clf__C=1.0, clf__gamma=0.05, pca__whiten=True, score=0.978227 - 1.2min\n",
      "[CV] pca__n_components=0.75, clf__C=1.0, clf__gamma=0.05, pca__whiten=True \n",
      "[CV]  pca__n_components=0.75, clf__C=1.0, clf__gamma=0.05, pca__whiten=True, score=0.977865 - 1.2min\n",
      "[CV] pca__n_components=0.75, clf__C=1.0, clf__gamma=0.05, pca__whiten=True \n",
      "[CV]  pca__n_components=0.75, clf__C=1.0, clf__gamma=0.05, pca__whiten=True, score=0.975830 - 1.2min\n",
      "[CV] pca__n_components=0.75, clf__C=1.0, clf__gamma=0.05, pca__whiten=True \n",
      "[CV]  pca__n_components=0.75, clf__C=1.0, clf__gamma=0.05, pca__whiten=True, score=0.977849 - 1.2min\n",
      "[CV] pca__n_components=0.75, clf__C=1.0, clf__gamma=0.05, pca__whiten=True \n",
      "[CV]  pca__n_components=0.75, clf__C=1.0, clf__gamma=0.05, pca__whiten=True, score=0.978204 - 1.2min\n",
      "[CV] pca__n_components=0.75, clf__C=1.0, clf__gamma=0.05, pca__whiten=False \n",
      "[CV]  pca__n_components=0.75, clf__C=1.0, clf__gamma=0.05, pca__whiten=False, score=0.981559 -  52.7s\n",
      "[CV] pca__n_components=0.75, clf__C=1.0, clf__gamma=0.05, pca__whiten=False \n",
      "[CV]  pca__n_components=0.75, clf__C=1.0, clf__gamma=0.05, pca__whiten=False, score=0.980721 -  53.2s\n",
      "[CV] pca__n_components=0.75, clf__C=1.0, clf__gamma=0.05, pca__whiten=False \n",
      "[CV]  pca__n_components=0.75, clf__C=1.0, clf__gamma=0.05, pca__whiten=False, score=0.978688 -  53.0s\n",
      "[CV] pca__n_components=0.75, clf__C=1.0, clf__gamma=0.05, pca__whiten=False \n",
      "[CV]  pca__n_components=0.75, clf__C=1.0, clf__gamma=0.05, pca__whiten=False, score=0.980112 -  52.4s\n",
      "[CV] pca__n_components=0.75, clf__C=1.0, clf__gamma=0.05, pca__whiten=False \n",
      "[CV]  pca__n_components=0.75, clf__C=1.0, clf__gamma=0.05, pca__whiten=False, score=0.980705 -  52.5s\n",
      "[CV] pca__n_components=0.75, clf__C=1.0, clf__gamma=0.001, pca__whiten=True \n",
      "[CV]  pca__n_components=0.75, clf__C=1.0, clf__gamma=0.001, pca__whiten=True, score=0.924688 -  52.1s\n",
      "[CV] pca__n_components=0.75, clf__C=1.0, clf__gamma=0.001, pca__whiten=True \n"
     ]
    },
    {
     "name": "stderr",
     "output_type": "stream",
     "text": [
      "[Parallel(n_jobs=1)]: Done  31 tasks       | elapsed: 21.1min\n"
     ]
    },
    {
     "name": "stdout",
     "output_type": "stream",
     "text": [
      "[CV]  pca__n_components=0.75, clf__C=1.0, clf__gamma=0.001, pca__whiten=True, score=0.924075 -  52.9s\n",
      "[CV] pca__n_components=0.75, clf__C=1.0, clf__gamma=0.001, pca__whiten=True \n",
      "[CV]  pca__n_components=0.75, clf__C=1.0, clf__gamma=0.001, pca__whiten=True, score=0.921181 -  51.5s\n",
      "[CV] pca__n_components=0.75, clf__C=1.0, clf__gamma=0.001, pca__whiten=True \n",
      "[CV]  pca__n_components=0.75, clf__C=1.0, clf__gamma=0.001, pca__whiten=True, score=0.923425 -  51.4s\n",
      "[CV] pca__n_components=0.75, clf__C=1.0, clf__gamma=0.001, pca__whiten=True \n",
      "[CV]  pca__n_components=0.75, clf__C=1.0, clf__gamma=0.001, pca__whiten=True, score=0.928537 -  51.5s\n",
      "[CV] pca__n_components=0.75, clf__C=1.0, clf__gamma=0.001, pca__whiten=False \n",
      "[CV]  pca__n_components=0.75, clf__C=1.0, clf__gamma=0.001, pca__whiten=False, score=0.930161 -  37.6s\n",
      "[CV] pca__n_components=0.75, clf__C=1.0, clf__gamma=0.001, pca__whiten=False \n",
      "[CV]  pca__n_components=0.75, clf__C=1.0, clf__gamma=0.001, pca__whiten=False, score=0.927645 -  37.4s\n",
      "[CV] pca__n_components=0.75, clf__C=1.0, clf__gamma=0.001, pca__whiten=False \n",
      "[CV]  pca__n_components=0.75, clf__C=1.0, clf__gamma=0.001, pca__whiten=False, score=0.928563 -  37.2s\n",
      "[CV] pca__n_components=0.75, clf__C=1.0, clf__gamma=0.001, pca__whiten=False \n",
      "[CV]  pca__n_components=0.75, clf__C=1.0, clf__gamma=0.001, pca__whiten=False, score=0.931285 -  37.3s\n",
      "[CV] pca__n_components=0.75, clf__C=1.0, clf__gamma=0.001, pca__whiten=False \n",
      "[CV]  pca__n_components=0.75, clf__C=1.0, clf__gamma=0.001, pca__whiten=False, score=0.932111 -  37.5s\n"
     ]
    },
    {
     "name": "stderr",
     "output_type": "stream",
     "text": [
      "[Parallel(n_jobs=1)]: Done  40 out of  40 | elapsed: 27.6min finished\n"
     ]
    },
    {
     "data": {
      "text/plain": [
       "GridSearchCV(cv=5, error_score='raise',\n",
       "       estimator=Pipeline(steps=[('pca', PCA(copy=True, n_components=0.75, whiten=True)), ('clf', SVC(C=1.0, cache_size=200, class_weight=None, coef0=0.0,\n",
       "  decision_function_shape=None, degree=3, gamma='auto', kernel='rbf',\n",
       "  max_iter=-1, probability=False, random_state=None, shrinking=True,\n",
       "  tol=0.001, verbose=False))]),\n",
       "       fit_params={}, iid=True, n_jobs=1,\n",
       "       param_grid={'pca__n_components': [0.75], 'clf__C': [1.0], 'clf__gamma': ['auto', 0.01, 0.05, 0.001], 'pca__whiten': [True, False]},\n",
       "       pre_dispatch='2*n_jobs', refit=True, scoring=None, verbose=3)"
      ]
     },
     "execution_count": 13,
     "metadata": {},
     "output_type": "execute_result"
    }
   ],
   "source": [
    "param_grid = {\n",
    "            'clf__C': [1.0],\n",
    "            'clf__gamma': ['auto', 0.01, 0.05, 0.001],\n",
    "            'pca__n_components': [0.75],\n",
    "            'pca__whiten': [True, False]\n",
    "}\n",
    "cv = GridSearchCV(pipe, param_grid=param_grid, verbose=3, cv=5)\n",
    "cv.fit(X, Y)"
   ]
  },
  {
   "cell_type": "code",
   "execution_count": 14,
   "metadata": {
    "collapsed": false
   },
   "outputs": [
    {
     "data": {
      "text/plain": [
       "[mean: 0.97781, std: 0.00101, params: {'pca__n_components': 0.75, 'clf__C': 1.0, 'clf__gamma': 'auto', 'pca__whiten': True},\n",
       " mean: 0.97917, std: 0.00135, params: {'pca__n_components': 0.75, 'clf__C': 1.0, 'clf__gamma': 'auto', 'pca__whiten': False},\n",
       " mean: 0.97014, std: 0.00128, params: {'pca__n_components': 0.75, 'clf__C': 1.0, 'clf__gamma': 0.01, 'pca__whiten': True},\n",
       " mean: 0.97217, std: 0.00227, params: {'pca__n_components': 0.75, 'clf__C': 1.0, 'clf__gamma': 0.01, 'pca__whiten': False},\n",
       " mean: 0.97760, std: 0.00090, params: {'pca__n_components': 0.75, 'clf__C': 1.0, 'clf__gamma': 0.05, 'pca__whiten': True},\n",
       " mean: 0.98036, std: 0.00095, params: {'pca__n_components': 0.75, 'clf__C': 1.0, 'clf__gamma': 0.05, 'pca__whiten': False},\n",
       " mean: 0.92438, std: 0.00239, params: {'pca__n_components': 0.75, 'clf__C': 1.0, 'clf__gamma': 0.001, 'pca__whiten': True},\n",
       " mean: 0.92995, std: 0.00166, params: {'pca__n_components': 0.75, 'clf__C': 1.0, 'clf__gamma': 0.001, 'pca__whiten': False}]"
      ]
     },
     "execution_count": 14,
     "metadata": {},
     "output_type": "execute_result"
    }
   ],
   "source": [
    "cv.grid_scores_"
   ]
  },
  {
   "cell_type": "code",
   "execution_count": 15,
   "metadata": {
    "collapsed": false
   },
   "outputs": [
    {
     "data": {
      "text/plain": [
       "{'clf__C': 1.0,\n",
       " 'clf__gamma': 0.05,\n",
       " 'pca__n_components': 0.75,\n",
       " 'pca__whiten': False}"
      ]
     },
     "execution_count": 15,
     "metadata": {},
     "output_type": "execute_result"
    }
   ],
   "source": [
    "cv.best_params_"
   ]
  },
  {
   "cell_type": "code",
   "execution_count": 16,
   "metadata": {
    "collapsed": false
   },
   "outputs": [
    {
     "data": {
      "text/html": [
       "<div>\n",
       "<table border=\"1\" class=\"dataframe\">\n",
       "  <thead>\n",
       "    <tr style=\"text-align: right;\">\n",
       "      <th></th>\n",
       "      <th>ImageId</th>\n",
       "      <th>Label</th>\n",
       "    </tr>\n",
       "  </thead>\n",
       "  <tbody>\n",
       "    <tr>\n",
       "      <th>0</th>\n",
       "      <td>1</td>\n",
       "      <td>2</td>\n",
       "    </tr>\n",
       "    <tr>\n",
       "      <th>1</th>\n",
       "      <td>2</td>\n",
       "      <td>0</td>\n",
       "    </tr>\n",
       "    <tr>\n",
       "      <th>2</th>\n",
       "      <td>3</td>\n",
       "      <td>9</td>\n",
       "    </tr>\n",
       "    <tr>\n",
       "      <th>3</th>\n",
       "      <td>4</td>\n",
       "      <td>9</td>\n",
       "    </tr>\n",
       "    <tr>\n",
       "      <th>4</th>\n",
       "      <td>5</td>\n",
       "      <td>3</td>\n",
       "    </tr>\n",
       "  </tbody>\n",
       "</table>\n",
       "</div>"
      ],
      "text/plain": [
       "   ImageId  Label\n",
       "0        1      2\n",
       "1        2      0\n",
       "2        3      9\n",
       "3        4      9\n",
       "4        5      3"
      ]
     },
     "execution_count": 16,
     "metadata": {},
     "output_type": "execute_result"
    }
   ],
   "source": [
    "submit(cv.best_estimator_, to_black_scale(test), 'output9.csv').head()"
   ]
  },
  {
   "cell_type": "markdown",
   "metadata": {},
   "source": [
    "## More paramtere tuning attempt"
   ]
  },
  {
   "cell_type": "code",
   "execution_count": 11,
   "metadata": {
    "collapsed": false
   },
   "outputs": [
    {
     "name": "stdout",
     "output_type": "stream",
     "text": [
      "Fitting 5 folds for each of 10 candidates, totalling 50 fits\n",
      "[CV] clf__C=1.0, pca__n_components=0.8, pca__whiten=False, clf__gamma=0.045 \n",
      "[CV]  clf__C=1.0, pca__n_components=0.8, pca__whiten=False, clf__gamma=0.045, score=0.981678 - 1.4min\n",
      "[CV] clf__C=1.0, pca__n_components=0.8, pca__whiten=False, clf__gamma=0.045 \n",
      "[CV]  clf__C=1.0, pca__n_components=0.8, pca__whiten=False, clf__gamma=0.045, score=0.980959 - 1.5min\n",
      "[CV] clf__C=1.0, pca__n_components=0.8, pca__whiten=False, clf__gamma=0.045 \n",
      "[CV]  clf__C=1.0, pca__n_components=0.8, pca__whiten=False, clf__gamma=0.045, score=0.978450 - 1.3min\n",
      "[CV] clf__C=1.0, pca__n_components=0.8, pca__whiten=False, clf__gamma=0.045 \n",
      "[CV]  clf__C=1.0, pca__n_components=0.8, pca__whiten=False, clf__gamma=0.045, score=0.979874 - 1.4min\n",
      "[CV] clf__C=1.0, pca__n_components=0.8, pca__whiten=False, clf__gamma=0.045 \n",
      "[CV]  clf__C=1.0, pca__n_components=0.8, pca__whiten=False, clf__gamma=0.045, score=0.981301 - 1.3min\n",
      "[CV] clf__C=1.75, pca__n_components=0.85, pca__whiten=False, clf__gamma=0.044 \n",
      "[CV]  clf__C=1.75, pca__n_components=0.85, pca__whiten=False, clf__gamma=0.044, score=0.981202 - 2.0min\n",
      "[CV] clf__C=1.75, pca__n_components=0.85, pca__whiten=False, clf__gamma=0.044 \n",
      "[CV]  clf__C=1.75, pca__n_components=0.85, pca__whiten=False, clf__gamma=0.044, score=0.980721 - 2.0min\n",
      "[CV] clf__C=1.75, pca__n_components=0.85, pca__whiten=False, clf__gamma=0.044 \n",
      "[CV]  clf__C=1.75, pca__n_components=0.85, pca__whiten=False, clf__gamma=0.044, score=0.979640 - 2.0min\n",
      "[CV] clf__C=1.75, pca__n_components=0.85, pca__whiten=False, clf__gamma=0.044 \n",
      "[CV]  clf__C=1.75, pca__n_components=0.85, pca__whiten=False, clf__gamma=0.044, score=0.979755 - 2.0min\n",
      "[CV] clf__C=1.75, pca__n_components=0.85, pca__whiten=False, clf__gamma=0.044 \n",
      "[CV]  clf__C=1.75, pca__n_components=0.85, pca__whiten=False, clf__gamma=0.044, score=0.980824 - 2.0min\n",
      "[CV] clf__C=1.0, pca__n_components=0.8, pca__whiten=False, clf__gamma=0.013 \n",
      "[CV]  clf__C=1.0, pca__n_components=0.8, pca__whiten=False, clf__gamma=0.013, score=0.976919 -  32.0s\n",
      "[CV] clf__C=1.0, pca__n_components=0.8, pca__whiten=False, clf__gamma=0.013 \n",
      "[CV]  clf__C=1.0, pca__n_components=0.8, pca__whiten=False, clf__gamma=0.013, score=0.976318 -  32.3s\n",
      "[CV] clf__C=1.0, pca__n_components=0.8, pca__whiten=False, clf__gamma=0.013 \n",
      "[CV]  clf__C=1.0, pca__n_components=0.8, pca__whiten=False, clf__gamma=0.013, score=0.973806 -  31.4s\n",
      "[CV] clf__C=1.0, pca__n_components=0.8, pca__whiten=False, clf__gamma=0.013 \n",
      "[CV]  clf__C=1.0, pca__n_components=0.8, pca__whiten=False, clf__gamma=0.013, score=0.975825 -  31.6s\n",
      "[CV] clf__C=1.0, pca__n_components=0.8, pca__whiten=False, clf__gamma=0.013 \n",
      "[CV]  clf__C=1.0, pca__n_components=0.8, pca__whiten=False, clf__gamma=0.013, score=0.976656 -  31.8s\n",
      "[CV] clf__C=2.7, pca__n_components=0.75, pca__whiten=False, clf__gamma=0.001 \n",
      "[CV]  clf__C=2.7, pca__n_components=0.75, pca__whiten=False, clf__gamma=0.001, score=0.940036 -  30.1s\n",
      "[CV] clf__C=2.7, pca__n_components=0.75, pca__whiten=False, clf__gamma=0.001 \n",
      "[CV]  clf__C=2.7, pca__n_components=0.75, pca__whiten=False, clf__gamma=0.001, score=0.936808 -  32.4s\n",
      "[CV] clf__C=2.7, pca__n_components=0.75, pca__whiten=False, clf__gamma=0.001 \n",
      "[CV]  clf__C=2.7, pca__n_components=0.75, pca__whiten=False, clf__gamma=0.001, score=0.937969 -  37.6s\n",
      "[CV] clf__C=2.7, pca__n_components=0.75, pca__whiten=False, clf__gamma=0.001 \n",
      "[CV]  clf__C=2.7, pca__n_components=0.75, pca__whiten=False, clf__gamma=0.001, score=0.938907 -  33.6s\n",
      "[CV] clf__C=2.7, pca__n_components=0.75, pca__whiten=False, clf__gamma=0.001 \n",
      "[CV]  clf__C=2.7, pca__n_components=0.75, pca__whiten=False, clf__gamma=0.001, score=0.939376 -  31.1s\n",
      "[CV] clf__C=2.9, pca__n_components=0.75, pca__whiten=False, clf__gamma=0.0 \n",
      "[CV]  clf__C=2.9, pca__n_components=0.75, pca__whiten=False, clf__gamma=0.0, score=0.982986 -  27.8s\n",
      "[CV] clf__C=2.9, pca__n_components=0.75, pca__whiten=False, clf__gamma=0.0 \n",
      "[CV]  clf__C=2.9, pca__n_components=0.75, pca__whiten=False, clf__gamma=0.0, score=0.981911 -  26.9s\n",
      "[CV] clf__C=2.9, pca__n_components=0.75, pca__whiten=False, clf__gamma=0.0 \n",
      "[CV]  clf__C=2.9, pca__n_components=0.75, pca__whiten=False, clf__gamma=0.0, score=0.980474 -  29.5s\n",
      "[CV] clf__C=2.9, pca__n_components=0.75, pca__whiten=False, clf__gamma=0.0 \n",
      "[CV]  clf__C=2.9, pca__n_components=0.75, pca__whiten=False, clf__gamma=0.0, score=0.982494 -  27.5s\n",
      "[CV] clf__C=2.9, pca__n_components=0.75, pca__whiten=False, clf__gamma=0.0 \n",
      "[CV]  clf__C=2.9, pca__n_components=0.75, pca__whiten=False, clf__gamma=0.0, score=0.981062 -  28.1s\n",
      "[CV] clf__C=2.75, pca__n_components=0.85, pca__whiten=False, clf__gamma=0.017 \n",
      "[CV]  clf__C=2.75, pca__n_components=0.85, pca__whiten=False, clf__gamma=0.017, score=0.981083 -  49.5s\n",
      "[CV] clf__C=2.75, pca__n_components=0.85, pca__whiten=False, clf__gamma=0.017 \n",
      "[CV]  clf__C=2.75, pca__n_components=0.85, pca__whiten=False, clf__gamma=0.017, score=0.980483 -  49.4s\n",
      "[CV] clf__C=2.75, pca__n_components=0.85, pca__whiten=False, clf__gamma=0.017 \n",
      "[CV]  clf__C=2.75, pca__n_components=0.85, pca__whiten=False, clf__gamma=0.017, score=0.980117 -  48.0s\n",
      "[CV] clf__C=2.75, pca__n_components=0.85, pca__whiten=False, clf__gamma=0.017 \n",
      "[CV]  clf__C=2.75, pca__n_components=0.85, pca__whiten=False, clf__gamma=0.017, score=0.981660 -  46.9s\n",
      "[CV] clf__C=2.75, pca__n_components=0.85, pca__whiten=False, clf__gamma=0.017 \n",
      "[CV]  clf__C=2.75, pca__n_components=0.85, pca__whiten=False, clf__gamma=0.017, score=0.979752 -  47.3s\n",
      "[CV] clf__C=2.4, pca__n_components=0.8, pca__whiten=False, clf__gamma=0.033 \n",
      "[CV]  clf__C=2.4, pca__n_components=0.8, pca__whiten=False, clf__gamma=0.033, score=0.983819 -  52.1s\n",
      "[CV] clf__C=2.4, pca__n_components=0.8, pca__whiten=False, clf__gamma=0.033 \n"
     ]
    },
    {
     "name": "stderr",
     "output_type": "stream",
     "text": [
      "[Parallel(n_jobs=1)]: Done  31 tasks       | elapsed: 29.5min\n"
     ]
    },
    {
     "name": "stdout",
     "output_type": "stream",
     "text": [
      "[CV]  clf__C=2.4, pca__n_components=0.8, pca__whiten=False, clf__gamma=0.033, score=0.982387 -  52.0s\n",
      "[CV] clf__C=2.4, pca__n_components=0.8, pca__whiten=False, clf__gamma=0.033 \n",
      "[CV]  clf__C=2.4, pca__n_components=0.8, pca__whiten=False, clf__gamma=0.033, score=0.980474 -  51.6s\n",
      "[CV] clf__C=2.4, pca__n_components=0.8, pca__whiten=False, clf__gamma=0.033 \n",
      "[CV]  clf__C=2.4, pca__n_components=0.8, pca__whiten=False, clf__gamma=0.033, score=0.982017 -  51.4s\n",
      "[CV] clf__C=2.4, pca__n_components=0.8, pca__whiten=False, clf__gamma=0.033 \n",
      "[CV]  clf__C=2.4, pca__n_components=0.8, pca__whiten=False, clf__gamma=0.033, score=0.981658 -  52.3s\n",
      "[CV] clf__C=2.65, pca__n_components=0.85, pca__whiten=False, clf__gamma=0.047 \n",
      "[CV]  clf__C=2.65, pca__n_components=0.85, pca__whiten=False, clf__gamma=0.047, score=0.980726 - 2.2min\n",
      "[CV] clf__C=2.65, pca__n_components=0.85, pca__whiten=False, clf__gamma=0.047 \n",
      "[CV]  clf__C=2.65, pca__n_components=0.85, pca__whiten=False, clf__gamma=0.047, score=0.980364 - 2.2min\n",
      "[CV] clf__C=2.65, pca__n_components=0.85, pca__whiten=False, clf__gamma=0.047 \n",
      "[CV]  clf__C=2.65, pca__n_components=0.85, pca__whiten=False, clf__gamma=0.047, score=0.979640 - 2.2min\n",
      "[CV] clf__C=2.65, pca__n_components=0.85, pca__whiten=False, clf__gamma=0.047 \n",
      "[CV]  clf__C=2.65, pca__n_components=0.85, pca__whiten=False, clf__gamma=0.047, score=0.979993 - 2.3min\n",
      "[CV] clf__C=2.65, pca__n_components=0.85, pca__whiten=False, clf__gamma=0.047 \n",
      "[CV]  clf__C=2.65, pca__n_components=0.85, pca__whiten=False, clf__gamma=0.047, score=0.980824 - 2.2min\n",
      "[CV] clf__C=1.05, pca__n_components=0.85, pca__whiten=False, clf__gamma=0.009 \n",
      "[CV]  clf__C=1.05, pca__n_components=0.85, pca__whiten=False, clf__gamma=0.009, score=0.972873 -  42.6s\n",
      "[CV] clf__C=1.05, pca__n_components=0.85, pca__whiten=False, clf__gamma=0.009 \n",
      "[CV]  clf__C=1.05, pca__n_components=0.85, pca__whiten=False, clf__gamma=0.009, score=0.971915 -  43.3s\n",
      "[CV] clf__C=1.05, pca__n_components=0.85, pca__whiten=False, clf__gamma=0.009 \n",
      "[CV]  clf__C=1.05, pca__n_components=0.85, pca__whiten=False, clf__gamma=0.009, score=0.969758 -  42.2s\n",
      "[CV] clf__C=1.05, pca__n_components=0.85, pca__whiten=False, clf__gamma=0.009 \n",
      "[CV]  clf__C=1.05, pca__n_components=0.85, pca__whiten=False, clf__gamma=0.009, score=0.973086 -  42.3s\n",
      "[CV] clf__C=1.05, pca__n_components=0.85, pca__whiten=False, clf__gamma=0.009 \n",
      "[CV]  clf__C=1.05, pca__n_components=0.85, pca__whiten=False, clf__gamma=0.009, score=0.973916 -  43.0s\n",
      "[CV] clf__C=2.2, pca__n_components=0.85, pca__whiten=False, clf__gamma=0.048 \n",
      "[CV]  clf__C=2.2, pca__n_components=0.85, pca__whiten=False, clf__gamma=0.048, score=0.980726 - 2.3min\n",
      "[CV] clf__C=2.2, pca__n_components=0.85, pca__whiten=False, clf__gamma=0.048 \n",
      "[CV]  clf__C=2.2, pca__n_components=0.85, pca__whiten=False, clf__gamma=0.048, score=0.980245 - 2.3min\n",
      "[CV] clf__C=2.2, pca__n_components=0.85, pca__whiten=False, clf__gamma=0.048 \n",
      "[CV]  clf__C=2.2, pca__n_components=0.85, pca__whiten=False, clf__gamma=0.048, score=0.979164 - 2.5min\n",
      "[CV] clf__C=2.2, pca__n_components=0.85, pca__whiten=False, clf__gamma=0.048 \n",
      "[CV]  clf__C=2.2, pca__n_components=0.85, pca__whiten=False, clf__gamma=0.048, score=0.980231 - 2.4min\n",
      "[CV] clf__C=2.2, pca__n_components=0.85, pca__whiten=False, clf__gamma=0.048 \n",
      "[CV]  clf__C=2.2, pca__n_components=0.85, pca__whiten=False, clf__gamma=0.048, score=0.980824 - 2.3min\n"
     ]
    },
    {
     "name": "stderr",
     "output_type": "stream",
     "text": [
      "[Parallel(n_jobs=1)]: Done  50 out of  50 | elapsed: 59.4min finished\n"
     ]
    },
    {
     "data": {
      "text/plain": [
       "RandomizedSearchCV(cv=5, error_score='raise',\n",
       "          estimator=Pipeline(steps=[('pca', PCA(copy=True, n_components=None, whiten=False)), ('clf', SVC(C=1.0, cache_size=200, class_weight=None, coef0=0.0,\n",
       "  decision_function_shape=None, degree=3, gamma='auto', kernel='rbf',\n",
       "  max_iter=-1, probability=False, random_state=None, shrinking=True,\n",
       "  tol=0.001, verbose=False))]),\n",
       "          fit_params={}, iid=True, n_iter=10, n_jobs=1,\n",
       "          param_distributions={'pca__whiten': [False], 'clf__C': array([ 1.  ,  1.05,  1.1 ,  1.15,  1.2 ,  1.25,  1.3 ,  1.35,  1.4 ,\n",
       "        1.45,  1.5 ,  1.55,  1.6 ,  1.65,  1.7 ,  1.75,  1.8 ,  1.85,\n",
       "        1.9 ,  1.95,  2.  ,  2.05,  2.1 ,  2.15,  2.2 ,  2.25,  2.3 ,\n",
       "        2.35,  2.4 ,  2.45,  2.5 , ...039,\n",
       "        0.04 ,  0.041,  0.042,  0.043,  0.044,  0.045,  0.046,  0.047,\n",
       "        0.048,  0.049])},\n",
       "          pre_dispatch='2*n_jobs', random_state=None, refit=True,\n",
       "          scoring=None, verbose=3)"
      ]
     },
     "execution_count": 11,
     "metadata": {},
     "output_type": "execute_result"
    }
   ],
   "source": [
    "param_grid = {\n",
    "            'clf__C': np.arange(1, 3, .05),\n",
    "            'clf__gamma': np.arange(0, .05, .001),\n",
    "            'pca__n_components': [0.75, .8, .85],\n",
    "            'pca__whiten': [False]\n",
    "}\n",
    "cv = RandomizedSearchCV(pipe, param_distributions=param_grid, verbose=3, cv=5)\n",
    "cv.fit(X, Y)"
   ]
  },
  {
   "cell_type": "code",
   "execution_count": 12,
   "metadata": {
    "collapsed": false
   },
   "outputs": [
    {
     "data": {
      "text/plain": [
       "{'clf__C': 2.4000000000000012,\n",
       " 'clf__gamma': 0.033000000000000002,\n",
       " 'pca__n_components': 0.8,\n",
       " 'pca__whiten': False}"
      ]
     },
     "execution_count": 12,
     "metadata": {},
     "output_type": "execute_result"
    }
   ],
   "source": [
    "cv.best_params_"
   ]
  },
  {
   "cell_type": "code",
   "execution_count": 13,
   "metadata": {
    "collapsed": false
   },
   "outputs": [
    {
     "data": {
      "text/plain": [
       "[mean: 0.98045, std: 0.00117, params: {'clf__C': 1.0, 'pca__n_components': 0.8, 'pca__whiten': False, 'clf__gamma': 0.044999999999999998},\n",
       " mean: 0.98043, std: 0.00062, params: {'clf__C': 1.7500000000000007, 'pca__n_components': 0.85, 'pca__whiten': False, 'clf__gamma': 0.043999999999999997},\n",
       " mean: 0.97590, std: 0.00111, params: {'clf__C': 1.0, 'pca__n_components': 0.8, 'pca__whiten': False, 'clf__gamma': 0.013000000000000001},\n",
       " mean: 0.93862, std: 0.00113, params: {'clf__C': 2.7000000000000015, 'pca__n_components': 0.75, 'pca__whiten': False, 'clf__gamma': 0.001},\n",
       " mean: 0.98179, std: 0.00092, params: {'clf__C': 2.9000000000000017, 'pca__n_components': 0.75, 'pca__whiten': False, 'clf__gamma': 0.0},\n",
       " mean: 0.98062, std: 0.00068, params: {'clf__C': 2.7500000000000018, 'pca__n_components': 0.85, 'pca__whiten': False, 'clf__gamma': 0.017000000000000001},\n",
       " mean: 0.98207, std: 0.00108, params: {'clf__C': 2.4000000000000012, 'pca__n_components': 0.8, 'pca__whiten': False, 'clf__gamma': 0.033000000000000002},\n",
       " mean: 0.98031, std: 0.00044, params: {'clf__C': 2.6500000000000012, 'pca__n_components': 0.85, 'pca__whiten': False, 'clf__gamma': 0.047},\n",
       " mean: 0.97231, std: 0.00143, params: {'clf__C': 1.05, 'pca__n_components': 0.85, 'pca__whiten': False, 'clf__gamma': 0.0090000000000000011},\n",
       " mean: 0.98024, std: 0.00059, params: {'clf__C': 2.2000000000000011, 'pca__n_components': 0.85, 'pca__whiten': False, 'clf__gamma': 0.048000000000000001}]"
      ]
     },
     "execution_count": 13,
     "metadata": {},
     "output_type": "execute_result"
    }
   ],
   "source": [
    "cv.grid_scores_"
   ]
  },
  {
   "cell_type": "code",
   "execution_count": 16,
   "metadata": {
    "collapsed": false
   },
   "outputs": [
    {
     "data": {
      "text/html": [
       "<div>\n",
       "<table border=\"1\" class=\"dataframe\">\n",
       "  <thead>\n",
       "    <tr style=\"text-align: right;\">\n",
       "      <th></th>\n",
       "      <th>ImageId</th>\n",
       "      <th>Label</th>\n",
       "    </tr>\n",
       "  </thead>\n",
       "  <tbody>\n",
       "    <tr>\n",
       "      <th>0</th>\n",
       "      <td>1</td>\n",
       "      <td>2</td>\n",
       "    </tr>\n",
       "    <tr>\n",
       "      <th>1</th>\n",
       "      <td>2</td>\n",
       "      <td>0</td>\n",
       "    </tr>\n",
       "    <tr>\n",
       "      <th>2</th>\n",
       "      <td>3</td>\n",
       "      <td>9</td>\n",
       "    </tr>\n",
       "    <tr>\n",
       "      <th>3</th>\n",
       "      <td>4</td>\n",
       "      <td>9</td>\n",
       "    </tr>\n",
       "    <tr>\n",
       "      <th>4</th>\n",
       "      <td>5</td>\n",
       "      <td>3</td>\n",
       "    </tr>\n",
       "  </tbody>\n",
       "</table>\n",
       "</div>"
      ],
      "text/plain": [
       "   ImageId  Label\n",
       "0        1      2\n",
       "1        2      0\n",
       "2        3      9\n",
       "3        4      9\n",
       "4        5      3"
      ]
     },
     "execution_count": 16,
     "metadata": {},
     "output_type": "execute_result"
    }
   ],
   "source": [
    "submit(cv.best_estimator_, to_black_scale(test), 'output10.csv').head()"
   ]
  },
  {
   "cell_type": "raw",
   "metadata": {},
   "source": [
    "This is my best submission so far.\n",
    "\n",
    "So far, black-white, pca, svm with lots of parameter tuning.\n",
    "Next I can try thresholding the values, eg everything above 10 is 1 or something like that. Other than that CNN is a great option"
   ]
  },
  {
   "cell_type": "code",
   "execution_count": null,
   "metadata": {
    "collapsed": true
   },
   "outputs": [],
   "source": []
  }
 ],
 "metadata": {
  "anaconda-cloud": {},
  "kernelspec": {
   "display_name": "Python [default]",
   "language": "python",
   "name": "python3"
  },
  "language_info": {
   "codemirror_mode": {
    "name": "ipython",
    "version": 3
   },
   "file_extension": ".py",
   "mimetype": "text/x-python",
   "name": "python",
   "nbconvert_exporter": "python",
   "pygments_lexer": "ipython3",
   "version": "3.5.2"
  }
 },
 "nbformat": 4,
 "nbformat_minor": 1
}
